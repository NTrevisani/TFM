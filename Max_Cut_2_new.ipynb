{
 "cells": [
  {
   "cell_type": "markdown",
   "metadata": {},
   "source": [
    "# A more complex problem"
   ]
  },
  {
   "cell_type": "markdown",
   "metadata": {},
   "source": [
    "### Best Solution Selection\n",
    "\n",
    "The results of the previous study suggest that for the simple problem we are considering, all the optimizations in which at every iteration the circuit is measured at least 64 times, provide a solution containing the optimal solution. \n",
    "\n",
    "In general, we may expect that for more complex problems, just a fraction of the optimizations fulfills this goal.\n",
    "In that case, we would like to find a way to select a solution that with large probability contains the optimal solution.\n",
    "\n",
    "For this, we can try building a more complex problem, so that solving it is not as trivial as in the previous case."
   ]
  },
  {
   "cell_type": "code",
   "execution_count": null,
   "metadata": {},
   "outputs": [],
   "source": [
    "# To import the functions defined in the Functions.py module\n",
    "from Functions import cost_function_C, VQE_circuit, cost_function_cobyla, time_vs_shots\n",
    "from Functions import scatter_plot, best_candidate_finder, F_opt_finder, cv_a_r, save_object\n",
    "from Functions import plot_comparison, random_graph_producer, brute_force_solver, PI\n",
    "from Functions import load_files, analyze_results\n",
    "from Functions import fit_sqrt, fit_pol0, fit_pol1, fit_pol2 "
   ]
  },
  {
   "cell_type": "code",
   "execution_count": null,
   "metadata": {},
   "outputs": [],
   "source": [
    "# Other libraries\n",
    "import numpy as np\n",
    "import pandas as pd\n",
    "import matplotlib.pyplot as plt "
   ]
  },
  {
   "cell_type": "code",
   "execution_count": null,
   "metadata": {},
   "outputs": [],
   "source": [
    "# Create random Max-Cut problem\n",
    "\n",
    "# Number of vertices\n",
    "n = 10\n",
    "\n",
    "# Number of edges\n",
    "E = 20\n",
    "\n",
    "# Random seed\n",
    "seed = 2000\n",
    "\n",
    "W2 = random_graph_producer(n, E, seed, verbosity=True)"
   ]
  },
  {
   "cell_type": "code",
   "execution_count": null,
   "metadata": {},
   "outputs": [],
   "source": [
    "# Solve the Max-Cut problem using brute-force approach\n",
    "# and save the solution\n",
    "brute_solution, brute_cost, eig = brute_force_solver(W2, verbosity=True)"
   ]
  },
  {
   "cell_type": "markdown",
   "metadata": {},
   "source": [
    "### Optimization using mean value"
   ]
  },
  {
   "cell_type": "code",
   "execution_count": null,
   "metadata": {},
   "outputs": [],
   "source": [
    "# Variables declaration\n",
    "WEIGHTS    = W2\n",
    "N_QBITS    = n\n",
    "DEPTH      = 2\n",
    "SHOTS      = 64\n",
    "BACKEND    = 'qasm_simulator'\n",
    "FINAL_EVAL = 128\n",
    "COST       = 'cost'\n",
    "\n",
    "N_repetitions = 100\n",
    "shots_list = [1, 2, 4, 8, 12, 16, 24, 32, 64, 96, 128, 256]"
   ]
  },
  {
   "cell_type": "code",
   "execution_count": null,
   "metadata": {},
   "outputs": [],
   "source": [
    "# A small scan, but we can get some results\n",
    "\n",
    "for shot in shots_list:\n",
    "    results_current = []\n",
    "    output = 0\n",
    "    file_name = \"files/Scan_\" + str(n) + \"qbits_\" + str(shot) + \".pkl\"\n",
    "    for rep in range(N_repetitions): \n",
    "        output = time_vs_shots(shot,\n",
    "                               WEIGHTS,\n",
    "                               N_QBITS,\n",
    "                               DEPTH,\n",
    "                               BACKEND,\n",
    "                               FINAL_EVAL,\n",
    "                               COST) \n",
    "        \n",
    "        if rep % 20 == 0:\n",
    "            print(\"Done with\", str(shot), \"shots, repetition\", rep)\n",
    "        results_current.append(output)\n",
    "\n",
    "    save_object(results_current, file_name) "
   ]
  },
  {
   "cell_type": "code",
   "execution_count": null,
   "metadata": {},
   "outputs": [],
   "source": [
    "# Load results\n",
    "res_mean = load_files(\"files/10qbits_mean/Scan_10qbits\", shots_list)\n",
    "df_mean, df_plot_mean = analyze_results(res_mean, shots_list, W2, brute_solution, 'cost')\n",
    "\n",
    "# Where to save figures\n",
    "import os\n",
    "folder_name = \"figures/{0}qbits_mean/\".format(n)\n",
    "\n",
    "dir_command = \"mkdir -p {0}\".format(folder_name)\n",
    "os.system(dir_command)"
   ]
  },
  {
   "cell_type": "code",
   "execution_count": null,
   "metadata": {},
   "outputs": [],
   "source": [
    "# Cost function evaluations vs shots\n",
    "save_name = folder_name + \"nfev_vs_shots\"\n",
    "y_unc_rel = 1 / (np.sqrt(df_plot_mean.shots) * np.sqrt(N_repetitions))\n",
    "\n",
    "scatter_plot(x       = df_plot_mean.shots,\n",
    "             y       = df_plot_mean.nfevs,\n",
    "             title   = \"Number of cost function evaluations vs shots\",\n",
    "             xlabel  = \"Shots\",\n",
    "             ylabel  = \"Cost function evaluations\",\n",
    "             y_err   = df_plot_mean.nfevs * y_unc_rel,\n",
    "             save_as = save_name)"
   ]
  },
  {
   "cell_type": "code",
   "execution_count": null,
   "metadata": {},
   "outputs": [],
   "source": [
    "# Total circuit evaluations vs shots\n",
    "save_name = folder_name + \"nfev_x_shots_vs_shots\"\n",
    "y_unc_rel = 1 / (np.sqrt(df_plot_mean.shots) * np.sqrt(N_repetitions))\n",
    "\n",
    "scatter_plot(x       = df_plot_mean.shots,\n",
    "             y       = df_plot_mean.nfevs*df_plot_mean.shots,\n",
    "             title   = \"Number of total circuit evaluations vs shots\",\n",
    "             xlabel  = \"Shots\",\n",
    "             ylabel  = \"Total circuits evaluations\",\n",
    "             y_err   = (df_plot_mean.nfevs*df_plot_mean.shots) * y_unc_rel,\n",
    "             save_as = save_name)"
   ]
  },
  {
   "cell_type": "code",
   "execution_count": null,
   "metadata": {},
   "outputs": [],
   "source": [
    "# Average solution cost function vs shots\n",
    "save_name = folder_name + \"cost_vs_shots\"\n",
    "y_unc_rel = 1 / (np.sqrt(df_plot_mean.shots) * np.sqrt(N_repetitions))\n",
    "\n",
    "scatter_plot(x       = df_plot_mean.shots,\n",
    "             y       = df_plot_mean.cost,\n",
    "             title   = \"Average solution cost function vs shots\",\n",
    "             xlabel  = \"Shots\",\n",
    "             ylabel  = \"Average solution cost function\",\n",
    "             save_as = save_name,\n",
    "             y_err   = df_plot_mean.cost * y_unc_rel,\n",
    "             ylim    = (-brute_cost, 0))"
   ]
  },
  {
   "cell_type": "code",
   "execution_count": null,
   "metadata": {},
   "outputs": [],
   "source": [
    "# Fraction of good solutions vs shots\n",
    "save_name = folder_name + \"frac_vs_shots\"\n",
    "y_unc_rel = 1 / (np.sqrt(df_plot_mean.shots) * np.sqrt(N_repetitions))\n",
    "\n",
    "scatter_plot(x       = df_plot_mean.shots,\n",
    "             y       = df_plot_mean.frac,\n",
    "             title   = \"Fraction of good solutions vs shots\",\n",
    "             xlabel  = \"Shots\",\n",
    "             ylabel  = \"Fraction of good solutions\",\n",
    "             y_err   = df_plot_mean.frac * y_unc_rel,\n",
    "             save_as = save_name)"
   ]
  },
  {
   "cell_type": "code",
   "execution_count": null,
   "metadata": {},
   "outputs": [],
   "source": [
    "# Mean distance from optimal cost function value vs 1/sqrt(shots)\n",
    "# (Brute cost is positive)\n",
    "save_name = folder_name + \"dist_vs_inv_shots\"\n",
    "y_unc_rel = 1 / (np.sqrt(df_plot_mean.shots) * np.sqrt(N_repetitions))\n",
    "\n",
    "scatter_plot(x       = 1 / np.sqrt(df_plot_mean.shots),\n",
    "             y       = brute_cost + df_plot_mean.cost,\n",
    "             do_fit   = True,\n",
    "             fit_func = \"1-exp\",\n",
    "             title   = r\"Mean distance from optimal cost function value vs $\\frac{1}{\\sqrt{Shots}}$\",\n",
    "             xlabel  = r\"$1 / \\sqrt{Shots}$\",\n",
    "             ylabel  = \"Distance from optimal cost function value\",\n",
    "             y_err   = (brute_cost + df_plot_mean.cost) * y_unc_rel,\n",
    "             save_as = save_name)"
   ]
  },
  {
   "cell_type": "code",
   "execution_count": null,
   "metadata": {},
   "outputs": [],
   "source": [
    "# Fraction of good solutions vs total circuit evaluations\n",
    "save_name = folder_name + \"frac_vs_nfev_x_shots\"\n",
    "y_unc_rel = 1 / (np.sqrt(df_plot_mean.shots) * np.sqrt(N_repetitions))\n",
    "\n",
    "scatter_plot(x       = df_plot_mean.nfevs*df_plot_mean.shots,\n",
    "             y       = df_plot_mean.frac,\n",
    "             title   = \"Fraction of good solutions vs total circuit evaluations\",\n",
    "             xlabel  = \"Total circuits evaluations\",\n",
    "             ylabel  = \"Fraction of good solutions\",\n",
    "             y_err   = df_plot_mean.frac * y_unc_rel,\n",
    "             save_as = save_name)"
   ]
  },
  {
   "cell_type": "markdown",
   "metadata": {},
   "source": [
    "### Optimization using CVaR"
   ]
  },
  {
   "cell_type": "markdown",
   "metadata": {},
   "source": [
    "#### CVaR with $\\alpha = 0.5$"
   ]
  },
  {
   "cell_type": "code",
   "execution_count": null,
   "metadata": {},
   "outputs": [],
   "source": [
    "# Variables declaration\n",
    "WEIGHTS    = W2\n",
    "N_QBITS    = n\n",
    "DEPTH      = 2\n",
    "SHOTS      = 64\n",
    "BACKEND    = 'qasm_simulator'\n",
    "FINAL_EVAL = 128\n",
    "COST       = 'cvar'\n",
    "ALPHA      = 0.5\n",
    "\n",
    "N_repetitions = 100\n",
    "shots_list = [1, 2, 4, 8, 12, 16, 24, 32, 64, 96, 128, 256]"
   ]
  },
  {
   "cell_type": "code",
   "execution_count": null,
   "metadata": {},
   "outputs": [],
   "source": [
    "# A small scan, but we can get some results\n",
    "\n",
    "for shot in shots_list:\n",
    "    results_current = []\n",
    "    output = 0\n",
    "    file_name = \"files/Scan_CVaR_\" + str(n) + \"qbits_\" + str(shot) + \".pkl\"\n",
    "    for rep in range(N_repetitions): \n",
    "        output = time_vs_shots(shot,\n",
    "                               WEIGHTS,\n",
    "                               N_QBITS,\n",
    "                               DEPTH,\n",
    "                               BACKEND,\n",
    "                               FINAL_EVAL,\n",
    "                               COST,\n",
    "                               ALPHA) \n",
    "        \n",
    "        if rep % 20 == 0:\n",
    "            print(\"Done with\", str(shot), \"shots, repetition\", rep)\n",
    "        results_current.append(output)\n",
    "\n",
    "    save_object(results_current, file_name) "
   ]
  },
  {
   "cell_type": "code",
   "execution_count": null,
   "metadata": {},
   "outputs": [],
   "source": [
    "# Load results                   \n",
    "res_cvar_05  = load_files(\"files/10qbits_cvar_0.5/Scan_10qbits\", shots_list)\n",
    "df_CVaR_plot, df_CVaR_plot_mean = analyze_results(res_cvar_05, shots_list, W2, brute_solution, COST, ALPHA)\n",
    "\n",
    "# Where to save figures\n",
    "import os\n",
    "folder_name = \"figures/{0}qbits_CVaR_{1}/\".format(n, ALPHA)\n",
    "\n",
    "dir_command = \"mkdir -p {0}\".format(folder_name)\n",
    "os.system(dir_command)"
   ]
  },
  {
   "cell_type": "code",
   "execution_count": null,
   "metadata": {},
   "outputs": [],
   "source": [
    "# Cost function evaluations vs shots\n",
    "save_name = folder_name + \"nfev_vs_shots\"\n",
    "y_unc_rel = 1 / (np.sqrt(df_CVaR_plot_mean.shots) * np.sqrt(N_repetitions))\n",
    "\n",
    "scatter_plot(x       = df_CVaR_plot_mean.shots,\n",
    "             y       = df_CVaR_plot_mean.nfevs,\n",
    "             title   = \"Number of cost function evaluations vs shots\",\n",
    "             xlabel  = \"Shots\",\n",
    "             ylabel  = \"Cost function evaluations\",\n",
    "             y_err   = df_CVaR_plot_mean.nfevs * y_unc_rel,\n",
    "             save_as = save_name)"
   ]
  },
  {
   "cell_type": "code",
   "execution_count": null,
   "metadata": {},
   "outputs": [],
   "source": [
    "# Total circuit evaluations vs shots\n",
    "save_name = folder_name + \"nfev_x_shots_vs_shots\"\n",
    "y_unc_rel = 1 / (np.sqrt(df_CVaR_plot_mean.shots) * np.sqrt(N_repetitions))\n",
    "\n",
    "scatter_plot(x       = df_CVaR_plot_mean.shots,\n",
    "             y       = df_CVaR_plot_mean.nfevs*df_CVaR_plot_mean.shots,\n",
    "             title   = \"Number of total circuit evaluations vs shots\",\n",
    "             xlabel  = \"Shots\",\n",
    "             ylabel  = \"Total circuits evaluations\",\n",
    "             y_err   = (df_CVaR_plot_mean.nfevs*df_CVaR_plot_mean.shots) * y_unc_rel,\n",
    "             save_as = save_name)"
   ]
  },
  {
   "cell_type": "code",
   "execution_count": null,
   "metadata": {},
   "outputs": [],
   "source": [
    "# Average solution cost function vs shots\n",
    "save_name = folder_name + \"cost_vs_shots\"\n",
    "y_unc_rel = 1 / (np.sqrt(df_CVaR_plot_mean.shots) * np.sqrt(N_repetitions))\n",
    "\n",
    "scatter_plot(x       = df_CVaR_plot_mean.shots,\n",
    "             y       = df_CVaR_plot_mean.cost,\n",
    "             title   = \"Average solution CVaR vs shots\",\n",
    "             xlabel  = \"Shots\",\n",
    "             ylabel  = \"Average solution CVaR\",\n",
    "             save_as = save_name,\n",
    "             y_err   = df_CVaR_plot_mean.cost * y_unc_rel,\n",
    "             ylim    = (-brute_cost, 0))"
   ]
  },
  {
   "cell_type": "code",
   "execution_count": null,
   "metadata": {},
   "outputs": [],
   "source": [
    "# Fraction of good solutions vs shots\n",
    "save_name = folder_name + \"frac_vs_shots\"\n",
    "y_unc_rel = 1 / (np.sqrt(df_CVaR_plot_mean.shots) * np.sqrt(N_repetitions))\n",
    "\n",
    "scatter_plot(x       = df_CVaR_plot_mean.shots,\n",
    "             y       = df_CVaR_plot_mean.frac,\n",
    "             title   = \"Fraction of good solutions vs shots\",\n",
    "             xlabel  = \"Shots\",\n",
    "             ylabel  = \"Fraction of good solutions\",\n",
    "             y_err   = df_CVaR_plot_mean.frac * y_unc_rel,\n",
    "             save_as = save_name)"
   ]
  },
  {
   "cell_type": "code",
   "execution_count": null,
   "metadata": {},
   "outputs": [],
   "source": [
    "# Mean distance from optimal cost function value vs 1/sqrt(shots)\n",
    "# (Brute cost is positive)\n",
    "save_name = folder_name + \"dist_vs_inv_shots\"\n",
    "y_unc_rel = 1 / (np.sqrt(df_CVaR_plot_mean.shots) * np.sqrt(N_repetitions))\n",
    "\n",
    "scatter_plot(x       = 1 / np.sqrt(df_CVaR_plot_mean.shots),\n",
    "             y       = brute_cost + df_CVaR_plot_mean.cost,\n",
    "             do_fit   = True,\n",
    "             fit_func = \"1-exp\",\n",
    "             title   = r\"Mean distance from optimal cost function value vs $\\frac{1}{\\sqrt{Shots}}$\",\n",
    "             xlabel  = r\"$1 / \\sqrt{Shots}$\",\n",
    "             ylabel  = \"Distance from optimal cost function value\",\n",
    "             y_err   = (brute_cost + df_CVaR_plot_mean.cost) * y_unc_rel,\n",
    "             save_as = save_name)"
   ]
  },
  {
   "cell_type": "code",
   "execution_count": null,
   "metadata": {},
   "outputs": [],
   "source": [
    "# Fraction of good solutions vs total circuit evaluations\n",
    "save_name = folder_name + \"frac_vs_nfev_x_shots\"\n",
    "y_unc_rel = 1 / (np.sqrt(df_CVaR_plot_mean.shots) * np.sqrt(N_repetitions))\n",
    "\n",
    "scatter_plot(x       = df_CVaR_plot_mean.nfevs*df_CVaR_plot_mean.shots,\n",
    "             y       = df_CVaR_plot_mean.frac,\n",
    "             title   = \"Fraction of good solutions vs total circuit evaluations\",\n",
    "             xlabel  = \"Total circuits evaluations\",\n",
    "             ylabel  = \"Fraction of good solutions\",\n",
    "             y_err   = df_CVaR_plot_mean.frac * y_unc_rel,\n",
    "             save_as = save_name)"
   ]
  },
  {
   "cell_type": "markdown",
   "metadata": {},
   "source": [
    "#### CVaR with $\\alpha = 0.2$"
   ]
  },
  {
   "cell_type": "code",
   "execution_count": null,
   "metadata": {},
   "outputs": [],
   "source": [
    "# Variables declaration\n",
    "WEIGHTS    = W2\n",
    "N_QBITS    = n\n",
    "DEPTH      = 2\n",
    "SHOTS      = 8\n",
    "BACKEND    = 'qasm_simulator'\n",
    "FINAL_EVAL = 128\n",
    "COST       = 'cvar'\n",
    "ALPHA      = 0.2\n",
    "\n",
    "N_repetitions = 100\n",
    "shots_list = [1, 2, 4, 8, 12, 16, 24, 32, 64, 96, 128, 256]"
   ]
  },
  {
   "cell_type": "code",
   "execution_count": null,
   "metadata": {},
   "outputs": [],
   "source": [
    "# A small scan, but we can get some results\n",
    "\n",
    "for shot in shots_list:\n",
    "    results_current = []\n",
    "    output = 0\n",
    "    file_name = \"files/Scan_CVaR_02_\" + str(n) + \"qbits_\" + str(shot) + \".pkl\"\n",
    "    for rep in range(N_repetitions): \n",
    "        output = time_vs_shots(shot,\n",
    "                               WEIGHTS,\n",
    "                               N_QBITS,\n",
    "                               DEPTH,\n",
    "                               BACKEND,\n",
    "                               FINAL_EVAL,\n",
    "                               COST,\n",
    "                               ALPHA) \n",
    "        \n",
    "        if rep % 20 == 0:\n",
    "            print(\"Done with\", str(shot), \"shots, repetition\", rep)\n",
    "        results_current.append(output)\n",
    "\n",
    "    save_object(results_current, file_name) "
   ]
  },
  {
   "cell_type": "code",
   "execution_count": null,
   "metadata": {},
   "outputs": [],
   "source": [
    "# Load results\n",
    "res_cvar_02  = load_files(\"files/10qbits_cvar_0.2/Scan_10qbits\", shots_list)\n",
    "df_CVaR_02_plot, df_CVaR_02_plot_mean = analyze_results(res_cvar_02, shots_list, W2, brute_solution, COST, ALPHA)\n",
    "\n",
    "# Where to save figures\n",
    "import os\n",
    "folder_name = \"figures/{0}qbits_CVaR_{1}/\".format(n, ALPHA)\n",
    "\n",
    "dir_command = \"mkdir -p {0}\".format(folder_name)\n",
    "os.system(dir_command)"
   ]
  },
  {
   "cell_type": "code",
   "execution_count": null,
   "metadata": {},
   "outputs": [],
   "source": [
    "# Cost function evaluations vs shots\n",
    "save_name = folder_name + \"nfev_vs_shots\"\n",
    "y_unc_rel = 1 / (np.sqrt(df_CVaR_02_plot_mean.shots) * np.sqrt(N_repetitions))\n",
    "\n",
    "\n",
    "scatter_plot(x       = df_CVaR_02_plot_mean.shots,\n",
    "             y       = df_CVaR_02_plot_mean.nfevs,\n",
    "             title   = \"Number of cost function evaluations vs shots\",\n",
    "             xlabel  = \"Shots\",\n",
    "             ylabel  = \"Cost function evaluations\",\n",
    "             y_err   = df_CVaR_02_plot_mean.nfevs * y_unc_rel,\n",
    "             save_as = save_name)"
   ]
  },
  {
   "cell_type": "code",
   "execution_count": null,
   "metadata": {},
   "outputs": [],
   "source": [
    "# Cost function evaluations vs shots\n",
    "save_name = folder_name + \"nfev_vs_shots\"\n",
    "y_unc_rel = 1 / (np.sqrt(df_CVaR_02_plot_mean.shots) * np.sqrt(N_repetitions))\n",
    "\n",
    "scatter_plot(x       = df_CVaR_02_plot_mean.shots,\n",
    "             y       = df_CVaR_02_plot_mean.nfevs,\n",
    "             title   = \"Number of cost function evaluations vs shots\",\n",
    "             xlabel  = \"Shots\",\n",
    "             ylabel  = \"Cost function evaluations\",\n",
    "             y_err   = df_CVaR_02_plot_mean.nfevs * y_unc_rel,\n",
    "             save_as = save_name)"
   ]
  },
  {
   "cell_type": "code",
   "execution_count": null,
   "metadata": {},
   "outputs": [],
   "source": [
    "# Total circuit evaluations vs shots\n",
    "save_name = folder_name + \"nfev_x_shots_vs_shots\"\n",
    "y_unc_rel = 1 / (np.sqrt(df_CVaR_02_plot_mean.shots) * np.sqrt(N_repetitions))\n",
    "\n",
    "scatter_plot(x       = df_CVaR_02_plot_mean.shots,\n",
    "             y       = df_CVaR_02_plot_mean.nfevs*df_CVaR_02_plot_mean.shots,\n",
    "             title   = \"Number of total circuit evaluations vs shots\",\n",
    "             xlabel  = \"Shots\",\n",
    "             ylabel  = \"Total circuits evaluations\",\n",
    "             y_err   = (df_CVaR_02_plot_mean.nfevs*df_CVaR_02_plot_mean.shots) * y_unc_rel,\n",
    "             save_as = save_name)"
   ]
  },
  {
   "cell_type": "code",
   "execution_count": null,
   "metadata": {},
   "outputs": [],
   "source": [
    "# Average solution cost function vs shots\n",
    "save_name = folder_name + \"cost_vs_shots\"\n",
    "y_unc_rel = 1 / (np.sqrt(df_CVaR_02_plot_mean.shots) * np.sqrt(N_repetitions))\n",
    "\n",
    "scatter_plot(x       = df_CVaR_02_plot_mean.shots,\n",
    "             y       = df_CVaR_02_plot_mean.cost,\n",
    "             title   = \"Average solution CVaR vs shots\",\n",
    "             xlabel  = \"Shots\",\n",
    "             ylabel  = \"Average solution CVaR\",\n",
    "             save_as = save_name,\n",
    "             y_err   = df_CVaR_02_plot_mean.cost * y_unc_rel,\n",
    "             ylim    = (-brute_cost, 0))"
   ]
  },
  {
   "cell_type": "code",
   "execution_count": null,
   "metadata": {},
   "outputs": [],
   "source": [
    "# Fraction of good solutions vs shots\n",
    "save_name = folder_name + \"frac_vs_shots\"\n",
    "y_unc_rel = 1 / (np.sqrt(df_CVaR_02_plot_mean.shots) * np.sqrt(N_repetitions))\n",
    "\n",
    "scatter_plot(x       = df_CVaR_02_plot_mean.shots,\n",
    "             y       = df_CVaR_02_plot_mean.frac,\n",
    "             title   = \"Fraction of good solutions vs shots\",\n",
    "             xlabel  = \"Shots\",\n",
    "             ylabel  = \"Fraction of good solutions\",\n",
    "             y_err   = df_CVaR_02_plot_mean.frac * y_unc_rel,\n",
    "             save_as = save_name)"
   ]
  },
  {
   "cell_type": "code",
   "execution_count": null,
   "metadata": {},
   "outputs": [],
   "source": [
    "# Mean distance from optimal cost function value vs 1/sqrt(shots)\n",
    "# (Brute cost is positive)\n",
    "save_name = folder_name + \"dist_vs_inv_shots\"\n",
    "y_unc_rel = 1 / (np.sqrt(df_CVaR_02_plot_mean.shots) * np.sqrt(N_repetitions))\n",
    "\n",
    "scatter_plot(x       = 1 / np.sqrt(df_CVaR_02_plot_mean.shots),\n",
    "             y       = brute_cost + df_CVaR_02_plot_mean.cost,\n",
    "             do_fit   = True,\n",
    "             fit_func = \"1-exp\",\n",
    "             title   = r\"Mean distance from optimal cost function value vs $\\frac{1}{\\sqrt{Shots}}$\",\n",
    "             xlabel  = r\"$1 / \\sqrt{Shots}$\",\n",
    "             ylabel  = \"Distance from optimal cost function value\",\n",
    "             y_err   = (brute_cost + df_CVaR_02_plot_mean.cost) * y_unc_rel,\n",
    "             save_as = save_name)"
   ]
  },
  {
   "cell_type": "code",
   "execution_count": null,
   "metadata": {},
   "outputs": [],
   "source": [
    "# Fraction of good solutions vs total circuit evaluations\n",
    "save_name = folder_name + \"frac_vs_nfev_x_shots\"\n",
    "y_unc_rel = 1 / (np.sqrt(df_CVaR_02_plot_mean.shots) * np.sqrt(N_repetitions))\n",
    "\n",
    "scatter_plot(x       = df_CVaR_02_plot_mean.nfevs*df_CVaR_02_plot_mean.shots,\n",
    "             y       = df_CVaR_02_plot_mean.frac,\n",
    "             title   = \"Fraction of good solutions vs total circuit evaluations\",\n",
    "             xlabel  = \"Total circuits evaluations\",\n",
    "             ylabel  = \"Fraction of good solutions\",\n",
    "             y_err   = df_CVaR_02_plot_mean.frac * y_unc_rel,\n",
    "             save_as = save_name)"
   ]
  },
  {
   "cell_type": "markdown",
   "metadata": {},
   "source": [
    "### Mean value vs CVaR"
   ]
  },
  {
   "cell_type": "code",
   "execution_count": null,
   "metadata": {},
   "outputs": [],
   "source": [
    "# Cost function evaluations vs log2(shots)\n",
    "save_name = \"figures/10qbits_comparison/nfev_vs_log2shots\"\n",
    "\n",
    "plot_comparison(x       = [np.log2(df_plot_mean.shots), np.log2(df_CVaR_plot_mean.shots), \\\n",
    "                           np.log2(df_CVaR_02_plot_mean.shots)],\n",
    "                y       = [df_plot_mean.nfevs, df_CVaR_plot_mean.nfevs, df_CVaR_02_plot_mean.nfevs],\n",
    "                legend  = [\"Mean\", \"CVaR, a = 0.5\", \"CVaR, a = 0.2\"],\n",
    "                title   = \"Number of cost function evaluations vs shots\",\n",
    "                xlabel  = \"log2(Shots)\",\n",
    "                ylabel  = \"Cost function evaluations\",\n",
    "                leg_loc = \"upper left\",\n",
    "                save_as = save_name)"
   ]
  },
  {
   "cell_type": "code",
   "execution_count": null,
   "metadata": {},
   "outputs": [],
   "source": [
    "# Cost function evaluations vs shots\n",
    "save_name = \"figures/10qbits_comparison/nfev_vs_shots\"\n",
    "\n",
    "plot_comparison(x       = [df_plot_mean.shots, df_CVaR_plot_mean.shots, \n",
    "                           df_CVaR_02_plot_mean.shots],\n",
    "                y       = [df_plot_mean.nfevs, df_CVaR_plot_mean.nfevs, \n",
    "                           df_CVaR_02_plot_mean.nfevs],\n",
    "                legend  = [\"Mean\", \"CVaR, a = 0.5\", \"CVaR, a = 0.2\"],\n",
    "                title   = \"Number of cost function evaluations vs shots\",\n",
    "                xlabel  = \"Shots\",\n",
    "                ylabel  = \"Cost function evaluations\",\n",
    "                leg_loc = \"upper left\",\n",
    "                save_as = save_name)"
   ]
  },
  {
   "cell_type": "code",
   "execution_count": null,
   "metadata": {},
   "outputs": [],
   "source": [
    "# Total circuit evaluations vs shots\n",
    "save_name = \"figures/10qbits_comparison/nfev_x_shots_vs_shots\"\n",
    "\n",
    "plot_comparison(x       = [df_plot_mean.shots, df_CVaR_plot_mean.shots, df_CVaR_02_plot_mean.shots],\n",
    "                y       = [df_plot_mean.nfevs*df_plot_mean.shots, \n",
    "                           df_CVaR_plot_mean.nfevs*df_CVaR_plot_mean.shots,\n",
    "                           df_CVaR_02_plot_mean.nfevs*df_CVaR_02_plot_mean.shots],\n",
    "                legend  = [\"Mean\", \"CVaR, a = 0.5\", \"CVaR, a = 0.2\"],\n",
    "                title   = \"Number of total circuit evaluations vs shots\",\n",
    "                xlabel  = \"Shots\",\n",
    "                ylabel  = \"Total circuits evaluations\",\n",
    "                leg_loc = \"upper left\",\n",
    "                save_as = save_name)"
   ]
  },
  {
   "cell_type": "code",
   "execution_count": null,
   "metadata": {},
   "outputs": [],
   "source": [
    "# Average solution cost function vs shots\n",
    "save_name = \"figures/10qbits_comparison/cost_vs_shots\"\n",
    "\n",
    "plot_comparison(x       = [df_plot_mean.shots, \n",
    "                           df_CVaR_plot_mean.shots, \n",
    "                           df_CVaR_02_plot_mean.shots],\n",
    "                y       = [df_plot_mean.cost, \n",
    "                           df_CVaR_plot_mean.cost, \n",
    "                           df_CVaR_02_plot_mean.cost],\n",
    "                legend  = [\"Mean\", \"CVaR, a = 0.5\", \"CVaR, a = 0.2\"],\n",
    "                title   = \"Average solution cost function vs shots\",\n",
    "                xlabel  = \"Shots\",\n",
    "                ylabel  = \"Cost function\",\n",
    "                ylim    = (-88, -40),\n",
    "                leg_loc = \"upper right\",\n",
    "                save_as = save_name)"
   ]
  },
  {
   "cell_type": "code",
   "execution_count": null,
   "metadata": {},
   "outputs": [],
   "source": [
    "# Fraction of good solutions vs shots\n",
    "save_name = \"figures/10qbits_comparison/frac_vs_shots\"\n",
    "\n",
    "plot_comparison(x       = [df_plot_mean.shots, df_CVaR_plot_mean.shots, df_CVaR_02_plot_mean.shots],\n",
    "                y       = [df_plot_mean.frac, df_CVaR_plot_mean.frac, df_CVaR_02_plot_mean.frac],\n",
    "                legend  = [\"Mean\", \"CVaR, a = 0.5\", \"CVaR, a = 0.2\"],\n",
    "                title   = \"Fraction of good solutions vs shots\",\n",
    "                xlabel  = \"Shots\",\n",
    "                ylabel  = \"Fraction of good solutions\",\n",
    "                leg_loc = \"upper left\",\n",
    "                save_as = save_name)"
   ]
  },
  {
   "cell_type": "code",
   "execution_count": null,
   "metadata": {},
   "outputs": [],
   "source": [
    "# Mean distance from optimal cost function value vs 1/sqrt(shots)\n",
    "# (Brute cost is positive)\n",
    "save_name = \"figures/10qbits_comparison/dist_vs_inv_shots\"\n",
    "\n",
    "plot_comparison(x       = [1 / np.sqrt(df_plot_mean.shots), \n",
    "                           1 / np.sqrt(df_CVaR_plot_mean.shots), \n",
    "                           1 / np.sqrt(df_CVaR_02_plot_mean.shots)],\n",
    "                y       = [brute_cost + df_plot_mean.cost, \n",
    "                           brute_cost + df_CVaR_plot_mean.cost, \n",
    "                           brute_cost + df_CVaR_02_plot_mean.cost],\n",
    "                legend  = [\"Mean\", \"CVaR, a = 0.5\", \"CVaR, a = 0.2\"],\n",
    "                title   = r\"Mean distance from optimal cost function value vs $\\frac{1}{\\sqrt{Shots}}$\",\n",
    "                xlabel  = r\"$1 / \\sqrt{Shots}$\",\n",
    "                ylabel  = \"Distance from optimal cost function value\",\n",
    "                leg_loc = \"upper left\",\n",
    "                save_as = save_name)"
   ]
  },
  {
   "cell_type": "code",
   "execution_count": null,
   "metadata": {},
   "outputs": [],
   "source": [
    "list_df = [df_plot_mean, df_CVaR_plot_mean, df_CVaR_02_plot_mean]"
   ]
  },
  {
   "cell_type": "code",
   "execution_count": null,
   "metadata": {},
   "outputs": [],
   "source": [
    "[df[\"shots\"] for df in list_df]"
   ]
  },
  {
   "cell_type": "code",
   "execution_count": null,
   "metadata": {},
   "outputs": [],
   "source": [
    "# Mean distance from optimal cost function value vs 1/sqrt(shots)\n",
    "# (Brute cost is positive)\n",
    "save_name = \"figures/10qbits_comparison/dist_vs_inv_shots\"\n",
    "\n",
    "plot_comparison(x       = [1 / df[\"shots\"] for df in list_df], \n",
    "                y       = [brute_cost + df.cost for df in list_df], \n",
    "                legend  = [\"Mean\", \"CVaR, a = 0.5\", \"CVaR, a = 0.2\"],\n",
    "                title   = r\"Mean distance from optimal cost function value vs $\\frac{1}{\\sqrt{Shots}}$\",\n",
    "                xlabel  = r\"$1 / \\sqrt{Shots}$\",\n",
    "                ylabel  = \"Distance from optimal cost function value\",\n",
    "                leg_loc = \"upper left\",\n",
    "                save_as = save_name)"
   ]
  },
  {
   "cell_type": "markdown",
   "metadata": {},
   "source": [
    "### Chained optimization"
   ]
  },
  {
   "cell_type": "markdown",
   "metadata": {},
   "source": [
    "#### Case cost function = mean expectation value"
   ]
  },
  {
   "cell_type": "code",
   "execution_count": null,
   "metadata": {},
   "outputs": [],
   "source": [
    "# Variables declaration\n",
    "WEIGHTS    = W2\n",
    "N_QBITS    = n\n",
    "DEPTH      = 2\n",
    "SHOTS      = 8\n",
    "BACKEND    = 'qasm_simulator'\n",
    "FINAL_EVAL = 128\n",
    "COST       = 'cost'\n",
    "\n",
    "N_repetitions = 100\n",
    "shots_list = [8, 16, 32, 64, 128]"
   ]
  },
  {
   "cell_type": "code",
   "execution_count": null,
   "metadata": {},
   "outputs": [],
   "source": [
    "# A small scan, but we can get some results\n",
    "\n",
    "for shot in shots_list:\n",
    "    results_current = []\n",
    "    output = 0\n",
    "    # consider 8 shots file as the first iteration\n",
    "    my_input = load_files(\"files/Scan_10qbits\", [8])\n",
    "    file_name  = \"files/Scan_{0}qbits_{1}_and_{2}.pkl\".format(n, SHOTS, shot)\n",
    "    for rep in range(N_repetitions): \n",
    "        # for each optimization of 'my_input', take the results\n",
    "        # and do a second optimization\n",
    "        output = time_vs_shots(shot,\n",
    "                               WEIGHTS,\n",
    "                               N_QBITS,\n",
    "                               DEPTH,\n",
    "                               BACKEND,\n",
    "                               FINAL_EVAL,\n",
    "                               COST,\n",
    "                               theta = my_input[rep][5]) \n",
    "        \n",
    "        if rep % 20 == 0:\n",
    "            print(\"Done with\", str(shot), \"shots, repetition\", rep)\n",
    "        results_current.append(output)\n",
    "\n",
    "    save_object(results_current, file_name) "
   ]
  },
  {
   "cell_type": "code",
   "execution_count": null,
   "metadata": {},
   "outputs": [],
   "source": [
    "# Load original optimization files\n",
    "original_opt = load_files(\"files/Scan_10qbits\", shots_list)\n",
    "df0, df00 = analyze_results(original_opt, shots_list, W2, brute_solution, 'cost')\n",
    "\n",
    "# Load chained optimization files\n",
    "chained_opt = load_files(\"files/Scan_10qbits_8_and\", shots_list)\n",
    "df1, df3 = analyze_results(chained_opt, shots_list, W2, brute_solution, 'cost')"
   ]
  },
  {
   "cell_type": "code",
   "execution_count": null,
   "metadata": {},
   "outputs": [],
   "source": [
    "# Compute total number of circuit evaluations\n",
    "df1['total_circ_eval'] = df1['ncircevs'] + \\\n",
    "    pd.concat([df0[df0['shots'] == 8]]*5).reset_index(level=0)['ncircevs']\n",
    "\n",
    "# Group by shots and average\n",
    "df2 = df1.groupby(['shots']).mean()\n",
    "df2.reset_index(level=0, inplace=True)\n",
    "\n",
    "# Add fraction of valid solutions to the data frame used for plotting\n",
    "df2['frac'] = df3['frac']"
   ]
  },
  {
   "cell_type": "code",
   "execution_count": null,
   "metadata": {},
   "outputs": [],
   "source": [
    "# Number of total circuit evaluations vs shots\n",
    "plot_comparison(x       = [df00[\"shots\"], df2[\"shots\"]], \n",
    "                y       = [df00[\"ncircevs\"], df2[\"ncircevs\"]],\n",
    "                legend  = [\"orignal opt\", \"chianed opt\"],\n",
    "                title   = \"Number of total circuit evaluations vs shots\",\n",
    "                xlabel  = \"Shots\",\n",
    "                ylabel  = \"Total circuits evaluations\",\n",
    "                leg_loc = \"upper left\",\n",
    "                save_as = \"figures/nfev_x_shots_vs_shots_avg100_qbit10_comparison_chain\")"
   ]
  },
  {
   "cell_type": "code",
   "execution_count": null,
   "metadata": {},
   "outputs": [],
   "source": [
    "# Fraction of good solutions vs shots\n",
    "plot_comparison(x       = [df00[\"shots\"], df2[\"shots\"]], \n",
    "                y       = [df00[\"frac\"], df2[\"frac\"]],\n",
    "                legend  = [\"orignal opt\", \"chained opt\"],\n",
    "                title   = \"Fraction of good solutions vs shots\",\n",
    "                xlabel  = \"Shots\",\n",
    "                ylabel  = \"Fraction of good solutions\",\n",
    "                leg_loc = \"upper left\",\n",
    "                save_as = \"figures/frac_vs_shots_avg100_qbit10_comparison_chain\")"
   ]
  },
  {
   "cell_type": "markdown",
   "metadata": {},
   "source": [
    "#### Case cost function = CVaR($\\alpha = 0.5$)"
   ]
  },
  {
   "cell_type": "code",
   "execution_count": null,
   "metadata": {},
   "outputs": [],
   "source": [
    "# Variables declaration\n",
    "WEIGHTS    = W2\n",
    "N_QBITS    = n\n",
    "DEPTH      = 2\n",
    "SHOTS      = 8\n",
    "BACKEND    = 'qasm_simulator'\n",
    "FINAL_EVAL = 128\n",
    "COST       = 'cvar'\n",
    "ALPHA      = 0.5\n",
    "\n",
    "N_repetitions = 100\n",
    "shots_list = [8, 16, 32, 64, 128]"
   ]
  },
  {
   "cell_type": "code",
   "execution_count": null,
   "metadata": {},
   "outputs": [],
   "source": [
    "# A small scan, but we can get some results\n",
    "\n",
    "for shot in shots_list:\n",
    "    results_current = []\n",
    "    output = 0\n",
    "    # consider 8 shots file as the first iteration\n",
    "    my_input = load_files(\"files/Scan_CVaR_10qbits\", [8])\n",
    "    file_name  = \"files/Scan_CVaR_{0}qbits_{1}_and_{2}.pkl\".format(n, SHOTS, shot)\n",
    "    for rep in range(N_repetitions): \n",
    "        # for each optimization of 'my_input', take the results\n",
    "        # and do a second optimization\n",
    "        output = time_vs_shots(shot,\n",
    "                               WEIGHTS,\n",
    "                               N_QBITS,\n",
    "                               DEPTH,\n",
    "                               BACKEND,\n",
    "                               FINAL_EVAL,\n",
    "                               COST,\n",
    "                               ALPHA,\n",
    "                               theta = my_input[rep][5]) \n",
    "        \n",
    "        if rep % 20 == 0:\n",
    "            print(\"Done with\", str(shot), \"shots, repetition\", rep)\n",
    "        results_current.append(output)\n",
    "\n",
    "    save_object(results_current, file_name)"
   ]
  },
  {
   "cell_type": "code",
   "execution_count": null,
   "metadata": {},
   "outputs": [],
   "source": [
    "# Load original optimization files\n",
    "original_opt_cvar = load_files(\"files/Scan_CVaR_10qbits\", shots_list)\n",
    "df0_cvar, df00_cvar = analyze_results(original_opt_cvar, shots_list, W2, brute_solution, 'cvar', 0.5)\n",
    "\n",
    "# Load chained optimization files\n",
    "chained_opt_cvar = load_files(\"files/Scan_CVaR_10qbits_8_and\", shots_list)\n",
    "df1_cvar, df3_cvar = analyze_results(chained_opt_cvar, shots_list, W2, brute_solution, 'cvar', 0.5)"
   ]
  },
  {
   "cell_type": "code",
   "execution_count": null,
   "metadata": {},
   "outputs": [],
   "source": [
    "# Compute total number of circuit evaluations\n",
    "df1_cvar['total_cric_eval'] = df1_cvar['ncircevs'] + \\\n",
    "    pd.concat([df0_cvar[df0_cvar['shots'] == 8]]*5).reset_index(level=0)['ncircevs']\n",
    "\n",
    "# Group by shots and average\n",
    "df2_cvar = df1_cvar.groupby(['shots']).mean()\n",
    "df2_cvar.reset_index(level=0, inplace=True)\n",
    "\n",
    "# Add fraction of valid solutions to the data frame used for plotting\n",
    "df2_cvar['frac'] = df3_cvar['frac']"
   ]
  },
  {
   "cell_type": "code",
   "execution_count": null,
   "metadata": {},
   "outputs": [],
   "source": [
    "# NUmber of total circuit evaluations vs shots\n",
    "plot_comparison(x       = [df00_cvar[\"shots\"], df2_cvar[\"shots\"]], \n",
    "                y       = [df00_cvar[\"ncircevs\"], df2_cvar[\"ncircevs\"]],\n",
    "                legend  = [\"orignal opt\", \"chianed opt\"],\n",
    "                title   = \"Number of total circuit evaluations vs shots\",\n",
    "                xlabel  = \"Shots\",\n",
    "                ylabel  = \"Total circuits evaluations\",\n",
    "                leg_loc = \"upper left\",\n",
    "                save_as = \"figures/nfev_x_shots_vs_shots_avg100_qbit10_comparison_chain_cvar05\")"
   ]
  },
  {
   "cell_type": "code",
   "execution_count": null,
   "metadata": {},
   "outputs": [],
   "source": [
    "# Fractions of good solutions vs shots\n",
    "plot_comparison(x       = [df00_cvar[\"shots\"], df2_cvar[\"shots\"]], \n",
    "                y       = [df00_cvar[\"frac\"], df2_cvar[\"frac\"]],\n",
    "                legend  = [\"orignal opt\", \"chained opt\"],\n",
    "                title   = \"Fraction of good solutions vs shots\",\n",
    "                xlabel  = \"Shots\",\n",
    "                ylabel  = \"Fraction of good solutions\",\n",
    "                leg_loc = \"upper left\",\n",
    "                save_as = \"figures/frac_vs_shots_avg100_qbit10_comparison_chain_cvar05\")"
   ]
  },
  {
   "cell_type": "markdown",
   "metadata": {},
   "source": [
    "#### Case cost function = CVaR($\\alpha = 0.2$)"
   ]
  },
  {
   "cell_type": "code",
   "execution_count": null,
   "metadata": {},
   "outputs": [],
   "source": [
    "# Variables declaration\n",
    "WEIGHTS    = W2\n",
    "N_QBITS    = n\n",
    "DEPTH      = 2\n",
    "SHOTS      = 8\n",
    "BACKEND    = 'qasm_simulator'\n",
    "FINAL_EVAL = 128\n",
    "COST       = 'cvar'\n",
    "ALPHA      = 0.2\n",
    "\n",
    "N_repetitions = 100\n",
    "shots_list = [8, 16, 32, 64, 128]"
   ]
  },
  {
   "cell_type": "code",
   "execution_count": null,
   "metadata": {},
   "outputs": [],
   "source": [
    "# A small scan, but we can get some results\n",
    "\n",
    "for shot in shots_list:\n",
    "    results_current = []\n",
    "    output = 0\n",
    "    # consider 8 shots file as the first iteration\n",
    "    my_input = load_files(\"files/Scan_CVaR_02_10qbits\", [8])\n",
    "    file_name  = \"files/Scan_CVaR_02_{0}qbits_{1}_and_{2}.pkl\".format(n, SHOTS, shot)\n",
    "    for rep in range(N_repetitions): \n",
    "        # for each optimization of 'my_input', take the results\n",
    "        # and do a second optimization\n",
    "        output = time_vs_shots(shot,\n",
    "                               WEIGHTS,\n",
    "                               N_QBITS,\n",
    "                               DEPTH,\n",
    "                               BACKEND,\n",
    "                               FINAL_EVAL,\n",
    "                               COST,\n",
    "                               ALPHA,\n",
    "                               theta = my_input[rep][5]) \n",
    "        \n",
    "        if rep % 20 == 0:\n",
    "            print(\"Done with\", str(shot), \"shots, repetition\", rep)\n",
    "        results_current.append(output)\n",
    "\n",
    "    save_object(results_current, file_name)"
   ]
  },
  {
   "cell_type": "code",
   "execution_count": null,
   "metadata": {},
   "outputs": [],
   "source": [
    "# Load original optimization files\n",
    "original_opt_cvar_02 = load_files(\"files/Scan_CVaR_02_10qbits\", shots_list)\n",
    "df0_cvar_02, df00_cvar_02 = analyze_results(original_opt_cvar_02, shots_list, W2, brute_solution, 'cvar', 0.2)\n",
    "\n",
    "# Load chained optimization files\n",
    "chained_opt_cvar_02 = load_files(\"files/Scan_CVaR_02_10qbits_8_and\", shots_list)\n",
    "df1_cvar_02, df3_cvar_02 = analyze_results(chained_opt_cvar_02, shots_list, W2, brute_solution, 'cvar', 0.2)"
   ]
  },
  {
   "cell_type": "code",
   "execution_count": null,
   "metadata": {},
   "outputs": [],
   "source": [
    "# Compute total number of circuit evaluations\n",
    "df1_cvar_02['total_cric_eval'] = df1_cvar_02['ncircevs'] + \\\n",
    "    pd.concat([df0_cvar_02[df0_cvar_02['shots'] == 8]]*5).reset_index(level=0)['ncircevs']\n",
    "\n",
    "# Group by shots and average\n",
    "df2_cvar_02 = df1_cvar_02.groupby(['shots']).mean()\n",
    "df2_cvar_02.reset_index(level=0, inplace=True)\n",
    "\n",
    "# Add fraction of valid solutions to the data frame used for plotting\n",
    "df2_cvar_02['frac'] = df3_cvar_02['frac']"
   ]
  },
  {
   "cell_type": "code",
   "execution_count": null,
   "metadata": {},
   "outputs": [],
   "source": [
    "# Number of total circuit evaluations vs shots\n",
    "plot_comparison(x       = [df00_cvar_02[\"shots\"], df2_cvar_02[\"shots\"]], \n",
    "                y       = [df00_cvar_02[\"ncircevs\"], df2_cvar_02[\"ncircevs\"]],\n",
    "                legend  = [\"orignal opt\", \"chianed opt\"],\n",
    "                title   = \"Number of total circuit evaluations vs shots\",\n",
    "                xlabel  = \"Shots\",\n",
    "                ylabel  = \"Total circuits evaluations\",\n",
    "                leg_loc = \"upper left\",\n",
    "                save_as = \"figures/nfev_x_shots_vs_shots_avg100_qbit10_comparison_chain_cvar02\")"
   ]
  },
  {
   "cell_type": "code",
   "execution_count": null,
   "metadata": {},
   "outputs": [],
   "source": [
    "# Fraction of good solutions vs shots\n",
    "plot_comparison(x       = [df00_cvar_02[\"shots\"], df2_cvar_02[\"shots\"]], \n",
    "                y       = [df00_cvar_02[\"frac\"], df2_cvar_02[\"frac\"]],\n",
    "                legend  = [\"orignal opt\", \"chained opt\"],\n",
    "                title   = \"Fraction of good solutions vs shots\",\n",
    "                xlabel  = \"Shots\",\n",
    "                ylabel  = \"Fraction of good solutions\",\n",
    "                leg_loc = \"upper left\",\n",
    "                save_as = \"figures/frac_vs_shots_avg100_qbit10_comparison_chain_cvar02\")"
   ]
  },
  {
   "cell_type": "code",
   "execution_count": null,
   "metadata": {},
   "outputs": [],
   "source": [
    "list_df = [df_plot_mean, df_CVaR_plot_mean, df_CVaR_02_plot_mean]\n"
   ]
  },
  {
   "cell_type": "code",
   "execution_count": null,
   "metadata": {},
   "outputs": [],
   "source": [
    "for df in list_df:\n",
    "    n_shots = df[\"shots\"]"
   ]
  },
  {
   "cell_type": "code",
   "execution_count": null,
   "metadata": {},
   "outputs": [],
   "source": [
    "n_shots"
   ]
  },
  {
   "cell_type": "code",
   "execution_count": null,
   "metadata": {
    "scrolled": true
   },
   "outputs": [],
   "source": [
    "[df[\"shots\"] for df in list_df]"
   ]
  },
  {
   "cell_type": "code",
   "execution_count": null,
   "metadata": {},
   "outputs": [],
   "source": []
  },
  {
   "cell_type": "code",
   "execution_count": null,
   "metadata": {},
   "outputs": [],
   "source": []
  },
  {
   "cell_type": "code",
   "execution_count": null,
   "metadata": {},
   "outputs": [],
   "source": []
  },
  {
   "cell_type": "code",
   "execution_count": null,
   "metadata": {},
   "outputs": [],
   "source": []
  },
  {
   "cell_type": "code",
   "execution_count": null,
   "metadata": {},
   "outputs": [],
   "source": [
    "n = 10\n",
    "E = 22\n",
    "\n",
    "# Random seed                                                                                                                                                                                               \n",
    "seed = 2000\n",
    "\n",
    "# Now create Max-Cut QUBO matrix                                                                                                                                                                            \n",
    "W2 = random_graph_producer(n, E, seed, verbosity=True)"
   ]
  },
  {
   "cell_type": "code",
   "execution_count": null,
   "metadata": {},
   "outputs": [],
   "source": [
    "# Solve the Max-Cut problem using brute-force approach                                                                                                                                                      \n",
    "# and save the solution                                                                                                                                                                                     \n",
    "brute_solution, brute_cost, eigenvalues = brute_force_solver(W2, verbosity=True)"
   ]
  },
  {
   "cell_type": "code",
   "execution_count": null,
   "metadata": {},
   "outputs": [],
   "source": [
    "n_cost = \"mean\"\n",
    "# Variables declaration                                                                                                                                                                                     \n",
    "WEIGHTS       = W2\n",
    "N_QBITS       = n\n",
    "DEPTH         = 2\n",
    "BACKEND       = 'qasm_simulator'\n",
    "FINAL_EVAL    = 128\n",
    "COST          = n_cost\n",
    "N_repetitions = 100\n",
    "shots_list    = [1, 2, 4, 8, 12, 16, 24, 32, 64, 96, 128, 256]\n",
    "\n",
    "\n",
    "# Load results                                                                                                                                                                                              \n",
    "load_string = \"files/{0}qbits_{1}edges_{2}/Scan\".format(N_QBITS, E, COST)\n",
    "results = load_files(load_string, shots_list)\n",
    "df, df_plot = analyze_results(results, shots_list, W2, brute_solution, COST)"
   ]
  },
  {
   "cell_type": "code",
   "execution_count": null,
   "metadata": {},
   "outputs": [],
   "source": [
    "df_plot"
   ]
  },
  {
   "cell_type": "code",
   "execution_count": null,
   "metadata": {},
   "outputs": [],
   "source": [
    "scatter_plot(x = 1 / np.sqrt(df_plot[\"shots\"]),\n",
    "             y = df_plot[\"cost_std_dev\"])"
   ]
  },
  {
   "cell_type": "code",
   "execution_count": null,
   "metadata": {},
   "outputs": [],
   "source": []
  }
 ],
 "metadata": {
  "kernelspec": {
   "display_name": "Python 3",
   "language": "python",
   "name": "python3"
  },
  "language_info": {
   "codemirror_mode": {
    "name": "ipython",
    "version": 3
   },
   "file_extension": ".py",
   "mimetype": "text/x-python",
   "name": "python",
   "nbconvert_exporter": "python",
   "pygments_lexer": "ipython3",
   "version": "3.7.4"
  }
 },
 "nbformat": 4,
 "nbformat_minor": 4
}
